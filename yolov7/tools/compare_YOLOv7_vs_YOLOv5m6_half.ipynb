{
 "nbformat": 4,
 "nbformat_minor": 0,
 "metadata": {
  "colab": {
   "name": "YOLOv7_vs_YOLOv5m6.ipynb",
   "provenance": []
  },
  "kernelspec": {
   "name": "python3",
   "display_name": "Python 3"
  },
  "language_info": {
   "name": "python"
  },
  "accelerator": "GPU",
  "gpuClass": "standard"
 },
 "cells": [
  {
   "cell_type": "code",
   "source": [
    "!pip install --upgrade setuptools pip --user\n",
    "!pip install --ignore-installed PyYAML\n",
    "!pip install pycocotools>=2.0"
   ],
   "metadata": {
    "colab": {
     "base_uri": "https://localhost:8080/",
     "height": 488
    },
    "id": "sSDOngglBk_O",
    "outputId": "5560686e-eea3-4dc7-883f-7c7c1d2773f6"
   },
   "execution_count": 1,
   "outputs": []
  },
  {
   "cell_type": "code",
   "execution_count": 2,
   "metadata": {
    "colab": {
     "base_uri": "https://localhost:8080/"
    },
    "id": "hQ5fNost-gZI",
    "outputId": "12d68d3a-0875-46ad-e79a-d085b6802da9"
   },
   "source": [
    "import sys\n",
    "import torch\n",
    "print(f\"Python version: {sys.version}, {sys.version_info} \")\n",
    "print(f\"Pytorch version: {torch.__version__} \")"
   ],
   "outputs": []
  },
  {
   "cell_type": "code",
   "source": [
    "!nvidia-smi"
   ],
   "metadata": {
    "colab": {
     "base_uri": "https://localhost:8080/"
    },
    "id": "feCaRUEI-_Os",
    "outputId": "8c36c3e2-bb63-4737-c0ec-3d7f06549db4"
   },
   "execution_count": 3,
   "outputs": []
  },
  {
   "cell_type": "code",
   "source": [
    "!wget https://github.com/ultralytics/yolov5/releases/download/v1.0/coco2017labels.zip\n",
    "!ls"
   ],
   "metadata": {
    "colab": {
     "base_uri": "https://localhost:8080/"
    },
    "id": "oxdg36BCqkyv",
    "outputId": "2206d6b8-e3c6-4c23-d047-2c0c3851b7c5"
   },
   "execution_count": 4,
   "outputs": []
  },
  {
   "cell_type": "code",
   "source": [
    "!unzip -o coco2017labels.zip"
   ],
   "metadata": {
    "colab": {
     "base_uri": "https://localhost:8080/"
    },
    "id": "ojgUsbxZqpi8",
    "outputId": "63311888-7f0d-4aae-9215-437b9c11518f"
   },
   "execution_count": 5,
   "outputs": []
  },
  {
   "cell_type": "code",
   "source": [
    "%cd /content/coco/images/\n",
    "!ls"
   ],
   "metadata": {
    "colab": {
     "base_uri": "https://localhost:8080/"
    },
    "id": "DxWC5ZN6snYY",
    "outputId": "03851c33-d4e1-46f9-d118-cde5d4ac5d48"
   },
   "execution_count": 6,
   "outputs": []
  },
  {
   "cell_type": "code",
   "source": [
    "!wget http://images.cocodataset.org/zips/val2017.zip\n",
    "!ls"
   ],
   "metadata": {
    "colab": {
     "base_uri": "https://localhost:8080/"
    },
    "id": "iQ_d_-NcssRZ",
    "outputId": "cb328aa8-6a0d-4709-f125-5674fd3d1cbc"
   },
   "execution_count": 7,
   "outputs": []
  },
  {
   "cell_type": "code",
   "source": [
    "!unzip val2017.zip"
   ],
   "metadata": {
    "colab": {
     "base_uri": "https://localhost:8080/"
    },
    "id": "0YAlWEJysv1l",
    "outputId": "0214d8f5-3f7e-4030-b55b-ee190a9a7b63"
   },
   "execution_count": 8,
   "outputs": []
  },
  {
   "cell_type": "code",
   "source": [
    "!rm /content/coco/val2017.cache"
   ],
   "metadata": {
    "id": "wvFHqxyCuNTu"
   },
   "execution_count": 9,
   "outputs": []
  },
  {
   "cell_type": "code",
   "source": [
    "%cd /content/\n",
    "!ls"
   ],
   "metadata": {
    "colab": {
     "base_uri": "https://localhost:8080/"
    },
    "id": "cOQlLvExtPFL",
    "outputId": "2c94026d-b4a9-4b9a-b506-48c47f24f80d"
   },
   "execution_count": 10,
   "outputs": []
  },
  {
   "cell_type": "code",
   "source": [
    "!# Download YOLOv7 code\n",
    "!git clone https://github.com/WongKinYiu/yolov7\n",
    "%cd yolov7\n",
    "!ls"
   ],
   "metadata": {
    "colab": {
     "base_uri": "https://localhost:8080/"
    },
    "id": "VbejKguHtK7x",
    "outputId": "cea237dc-3264-4c45-9225-2de6954fc1bc"
   },
   "execution_count": 11,
   "outputs": []
  },
  {
   "cell_type": "code",
   "source": [
    "!sed -i 's#./coco/val2017.txt#/content/coco/val2017.txt#g' /content/yolov7/data/coco.yaml\n",
    "!cat /content/yolov7/data/coco.yaml"
   ],
   "metadata": {
    "colab": {
     "base_uri": "https://localhost:8080/"
    },
    "id": "0NmzpzAaCUzC",
    "outputId": "b926d556-58f2-4e3c-cdb0-747359f9f092"
   },
   "execution_count": 12,
   "outputs": []
  },
  {
   "cell_type": "code",
   "source": [
    "!sed -i 's#./images/#/content/coco/images/#g' /content/coco/val2017.txt\n",
    "!cat /content/coco/val2017.txt"
   ],
   "metadata": {
    "colab": {
     "base_uri": "https://localhost:8080/"
    },
    "id": "SYXkoHQbCXu0",
    "outputId": "4dee25f3-9820-48fd-85aa-0e5779578ddd"
   },
   "execution_count": 13,
   "outputs": []
  },
  {
   "cell_type": "code",
   "source": [
    "!# Download trained weights\n",
    "!wget https://github.com/WongKinYiu/yolov7/releases/download/v0.1/yolov7.pt"
   ],
   "metadata": {
    "colab": {
     "base_uri": "https://localhost:8080/"
    },
    "id": "OL9i_dSPu7EV",
    "outputId": "39796710-e419-4c09-eef5-3200bc819293"
   },
   "execution_count": 14,
   "outputs": []
  },
  {
   "cell_type": "code",
   "source": [
    "!python detect.py --weights ./yolov7.pt --conf 0.25 --img-size 640 --source inference/images/horses.jpg"
   ],
   "metadata": {
    "colab": {
     "base_uri": "https://localhost:8080/"
    },
    "id": "0rBj0ty6vA-_",
    "outputId": "16409eb3-f5a6-47b8-a5e9-30701b02843f"
   },
   "execution_count": 15,
   "outputs": []
  },
  {
   "cell_type": "code",
   "source": [
    "from PIL import Image\n",
    "Image.open('/content/yolov7/runs/detect/exp/horses.jpg')"
   ],
   "metadata": {
    "colab": {
     "base_uri": "https://localhost:8080/",
     "height": 529
    },
    "id": "eQzplCJjvDoF",
    "outputId": "0930f53a-0091-45e7-9ac6-8baf0d4acfe6"
   },
   "execution_count": 16,
   "outputs": []
  },
  {
   "cell_type": "code",
   "source": [
    "!mkdir /content/yolov7/coco/\n",
    "%cd /content/yolov7/coco/"
   ],
   "metadata": {
    "colab": {
     "base_uri": "https://localhost:8080/"
    },
    "id": "GYCOY5mcwkiM",
    "outputId": "a89a8534-ecf1-43d4-ddf7-4174dc88e3ac"
   },
   "execution_count": 17,
   "outputs": []
  },
  {
   "cell_type": "code",
   "source": [
    "!wget http://images.cocodataset.org/annotations/annotations_trainval2017.zip\n",
    "!ls"
   ],
   "metadata": {
    "colab": {
     "base_uri": "https://localhost:8080/"
    },
    "id": "AagdJBYbxSft",
    "outputId": "2666effb-dde1-4adc-d23e-1b6eef7efe2b"
   },
   "execution_count": 18,
   "outputs": []
  },
  {
   "cell_type": "code",
   "source": [
    "!unzip -o annotations_trainval2017.zip\n",
    "!ls"
   ],
   "metadata": {
    "colab": {
     "base_uri": "https://localhost:8080/"
    },
    "id": "Idx8qqbTw0KY",
    "outputId": "2d2aacd6-f5f4-497b-b148-84e29c7d6840"
   },
   "execution_count": 19,
   "outputs": []
  },
  {
   "cell_type": "code",
   "source": [
    "%cd /content/yolov7/\n",
    "!ls"
   ],
   "metadata": {
    "colab": {
     "base_uri": "https://localhost:8080/"
    },
    "id": "oEv03HR3xj1d",
    "outputId": "5ff8c7fb-c14c-4727-e65d-e0005e6dc52a"
   },
   "execution_count": 20,
   "outputs": []
  },
  {
   "cell_type": "code",
   "source": [
    "!python test.py --data data/coco.yaml --img 640 --batch 32 --conf 0.001 --iou 0.65 --device 0 --weights yolov7.pt --name yolov7_640_val"
   ],
   "metadata": {
    "colab": {
     "base_uri": "https://localhost:8080/"
    },
    "id": "Rdjk1aSjvEN1",
    "outputId": "b59d09a2-1531-4239-ad5e-df3c9a04e81f"
   },
   "execution_count": 21,
   "outputs": []
  },
  {
   "cell_type": "code",
   "source": [
    "!python test.py --data data/coco.yaml --img 640 --batch 1 --conf 0.001 --iou 0.65 --device 0 --weights yolov7.pt --name yolov7_640_val"
   ],
   "metadata": {
    "colab": {
     "base_uri": "https://localhost:8080/"
    },
    "id": "JE3o2PqQy2n4",
    "outputId": "c7d76c51-259d-4d8d-f8c2-b97ac44aa99f"
   },
   "execution_count": 22,
   "outputs": []
  },
  {
   "cell_type": "code",
   "source": [
    "%cd /content/\n",
    "!ls"
   ],
   "metadata": {
    "colab": {
     "base_uri": "https://localhost:8080/"
    },
    "id": "1f2w5Ht41Z_5",
    "outputId": "3010d034-6689-42ef-b647-955c13ace52a"
   },
   "execution_count": 23,
   "outputs": []
  },
  {
   "cell_type": "code",
   "source": [
    "!# Download YOLOv5 code\n",
    "!git clone https://github.com/ultralytics/yolov5\n",
    "%cd yolov5\n",
    "!git checkout 0b5ac224aef287ac3ac9ebf70ade60159450a0b1\n",
    "!ls"
   ],
   "metadata": {
    "colab": {
     "base_uri": "https://localhost:8080/"
    },
    "id": "JerxfvYu1aZC",
    "outputId": "62f2a98b-3a2b-40f3-b15d-c62a0d4a10ae"
   },
   "execution_count": 24,
   "outputs": []
  },
  {
   "cell_type": "code",
   "source": [
    "!# Download trained weights\n",
    "!wget https://github.com/ultralytics/yolov5/releases/download/v6.1/yolov5m6.pt"
   ],
   "metadata": {
    "colab": {
     "base_uri": "https://localhost:8080/"
    },
    "id": "u51YN2861gmT",
    "outputId": "d77e4ef4-5b68-4afc-ef5f-1d841b7dbf37"
   },
   "execution_count": 25,
   "outputs": []
  },
  {
   "cell_type": "code",
   "source": [
    "!python detect.py --weights ./yolov5m6.pt --conf 0.25 --img-size 1280 --source data/images/bus.jpg"
   ],
   "metadata": {
    "colab": {
     "base_uri": "https://localhost:8080/"
    },
    "id": "QEf8hSrk1vlW",
    "outputId": "e5e45f2c-f4e5-4e83-a7c5-101d352ce0fb"
   },
   "execution_count": 26,
   "outputs": []
  },
  {
   "cell_type": "code",
   "source": [
    "from PIL import Image\n",
    "Image.open('/content/yolov5/runs/detect/exp/bus.jpg')"
   ],
   "metadata": {
    "colab": {
     "base_uri": "https://localhost:8080/",
     "height": 1000
    },
    "id": "pKGRsSnx2If3",
    "outputId": "8d5f3b1f-fad3-405e-db26-261686d7c0f9"
   },
   "execution_count": 27,
   "outputs": []
  },
  {
   "cell_type": "code",
   "source": [
    "!mkdir /content/yolov5/coco/\n",
    "%cd /content/yolov5/coco/"
   ],
   "metadata": {
    "colab": {
     "base_uri": "https://localhost:8080/"
    },
    "id": "fbU9HTb82Qhr",
    "outputId": "f5e650b0-5a8a-4339-ae4a-57fcc4f1435e"
   },
   "execution_count": 28,
   "outputs": []
  },
  {
   "cell_type": "code",
   "source": [
    "!wget http://images.cocodataset.org/annotations/annotations_trainval2017.zip\n",
    "!ls"
   ],
   "metadata": {
    "colab": {
     "base_uri": "https://localhost:8080/"
    },
    "id": "q4nl_CHl2ZQY",
    "outputId": "f6a58c69-9fbc-4952-c501-035df302d78a"
   },
   "execution_count": 29,
   "outputs": []
  },
  {
   "cell_type": "code",
   "source": [
    "!unzip -o annotations_trainval2017.zip\n",
    "!ls"
   ],
   "metadata": {
    "colab": {
     "base_uri": "https://localhost:8080/"
    },
    "id": "MN1F_bYH2rlJ",
    "outputId": "1a3aa2c5-5ca6-422a-9043-921951b38d2f"
   },
   "execution_count": 30,
   "outputs": []
  },
  {
   "cell_type": "code",
   "source": [
    "%cd /content/yolov5/\n",
    "!ls"
   ],
   "metadata": {
    "colab": {
     "base_uri": "https://localhost:8080/"
    },
    "id": "PkvMZba62vaO",
    "outputId": "ccea7339-dc91-4b73-8924-115f4de3c3cb"
   },
   "execution_count": 31,
   "outputs": []
  },
  {
   "cell_type": "code",
   "source": [
    "!sed -i 's#../datasets/coco#/content/coco#g' /content/yolov5/data/coco.yaml\n",
    "!cat /content/yolov5/data/coco.yaml"
   ],
   "metadata": {
    "colab": {
     "base_uri": "https://localhost:8080/"
    },
    "id": "yFWoBat923l7",
    "outputId": "d39b34a7-93b3-47dd-9a95-9c9dfd5d0959"
   },
   "execution_count": 32,
   "outputs": []
  },
  {
   "cell_type": "code",
   "source": [
    "!python val.py --data data/coco.yaml --img 1280 --batch 32 --conf 0.001 --iou 0.65 --device 0 --weights yolov5m6.pt --name yolov5m6_1280_val --half"
   ],
   "metadata": {
    "colab": {
     "base_uri": "https://localhost:8080/"
    },
    "id": "TbBttXtI3KuI",
    "outputId": "76e4ff02-50cd-4332-d107-40373620a5ca"
   },
   "execution_count": 33,
   "outputs": []
  },
  {
   "cell_type": "code",
   "source": [
    "!python val.py --data data/coco.yaml --img 1280 --batch 1 --conf 0.001 --iou 0.65 --device 0 --weights yolov5m6.pt --name yolov5m6_1280_val --half"
   ],
   "metadata": {
    "colab": {
     "base_uri": "https://localhost:8080/"
    },
    "id": "-tMYe8f27US9",
    "outputId": "42efab4b-544d-45bb-8544-4a52b3c3e6c6"
   },
   "execution_count": 34,
   "outputs": []
  }
 ]
}
