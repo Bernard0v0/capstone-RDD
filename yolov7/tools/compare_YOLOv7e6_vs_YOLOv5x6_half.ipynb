{
 "nbformat": 4,
 "nbformat_minor": 0,
 "metadata": {
  "colab": {
   "name": "YOLOv7e6_vs_YOLOv5x6.ipynb",
   "provenance": []
  },
  "kernelspec": {
   "name": "python3",
   "display_name": "Python 3"
  },
  "language_info": {
   "name": "python"
  },
  "accelerator": "GPU",
  "gpuClass": "standard"
 },
 "cells": [
  {
   "cell_type": "code",
   "source": [
    "!pip install --upgrade setuptools pip --user\n",
    "!pip install --ignore-installed PyYAML\n",
    "!pip install pycocotools>=2.0"
   ],
   "metadata": {
    "colab": {
     "base_uri": "https://localhost:8080/",
     "height": 488
    },
    "id": "sSDOngglBk_O",
    "outputId": "6db56c37-0ad1-4f71-f1c4-95ba22427a7c"
   },
   "execution_count": 1,
   "outputs": []
  },
  {
   "cell_type": "code",
   "execution_count": 2,
   "metadata": {
    "colab": {
     "base_uri": "https://localhost:8080/"
    },
    "id": "hQ5fNost-gZI",
    "outputId": "60225b4b-d02d-495a-d7eb-3280004aabb6"
   },
   "source": [
    "import sys\n",
    "import torch\n",
    "print(f\"Python version: {sys.version}, {sys.version_info} \")\n",
    "print(f\"Pytorch version: {torch.__version__} \")"
   ],
   "outputs": []
  },
  {
   "cell_type": "code",
   "source": [
    "!nvidia-smi"
   ],
   "metadata": {
    "colab": {
     "base_uri": "https://localhost:8080/"
    },
    "id": "feCaRUEI-_Os",
    "outputId": "a6cae0d5-a18f-4377-c67f-795d6b11e0f7"
   },
   "execution_count": 3,
   "outputs": []
  },
  {
   "cell_type": "code",
   "source": [
    "!wget https://github.com/ultralytics/yolov5/releases/download/v1.0/coco2017labels.zip\n",
    "!ls"
   ],
   "metadata": {
    "colab": {
     "base_uri": "https://localhost:8080/"
    },
    "id": "oxdg36BCqkyv",
    "outputId": "9fcdf784-128f-46cc-ed72-aede3d2c9126"
   },
   "execution_count": 4,
   "outputs": []
  },
  {
   "cell_type": "code",
   "source": [
    "!unzip -o coco2017labels.zip"
   ],
   "metadata": {
    "colab": {
     "base_uri": "https://localhost:8080/"
    },
    "id": "ojgUsbxZqpi8",
    "outputId": "5b84a429-cf1b-44fa-d315-a57124d9dce4"
   },
   "execution_count": 5,
   "outputs": []
  },
  {
   "cell_type": "code",
   "source": [
    "%cd /content/coco/images/\n",
    "!ls"
   ],
   "metadata": {
    "colab": {
     "base_uri": "https://localhost:8080/"
    },
    "id": "DxWC5ZN6snYY",
    "outputId": "e451d467-2ffa-40f3-fbba-45eca17bbf0a"
   },
   "execution_count": 6,
   "outputs": []
  },
  {
   "cell_type": "code",
   "source": [
    "!wget http://images.cocodataset.org/zips/val2017.zip\n",
    "!ls"
   ],
   "metadata": {
    "colab": {
     "base_uri": "https://localhost:8080/"
    },
    "id": "iQ_d_-NcssRZ",
    "outputId": "779d3a10-76b4-4b9b-bb29-5cf3045ff7d2"
   },
   "execution_count": 7,
   "outputs": []
  },
  {
   "cell_type": "code",
   "source": [
    "!unzip val2017.zip"
   ],
   "metadata": {
    "colab": {
     "base_uri": "https://localhost:8080/"
    },
    "id": "0YAlWEJysv1l",
    "outputId": "64a1b47a-7525-4928-f868-37981e4f8c02"
   },
   "execution_count": 8,
   "outputs": []
  },
  {
   "cell_type": "code",
   "source": [
    "!rm /content/coco/val2017.cache"
   ],
   "metadata": {
    "id": "wvFHqxyCuNTu"
   },
   "execution_count": 9,
   "outputs": []
  },
  {
   "cell_type": "code",
   "source": [
    "%cd /content/\n",
    "!ls"
   ],
   "metadata": {
    "colab": {
     "base_uri": "https://localhost:8080/"
    },
    "id": "cOQlLvExtPFL",
    "outputId": "e61726ac-4ef2-42fd-cf69-26e751d21c7f"
   },
   "execution_count": 10,
   "outputs": []
  },
  {
   "cell_type": "code",
   "source": [
    "!# Download YOLOv7 code\n",
    "!git clone https://github.com/WongKinYiu/yolov7\n",
    "%cd yolov7\n",
    "!ls"
   ],
   "metadata": {
    "colab": {
     "base_uri": "https://localhost:8080/"
    },
    "id": "VbejKguHtK7x",
    "outputId": "f7cd3652-0723-4273-e0c8-1e4e28703226"
   },
   "execution_count": 11,
   "outputs": []
  },
  {
   "cell_type": "code",
   "source": [
    "!sed -i 's#./coco/val2017.txt#/content/coco/val2017.txt#g' /content/yolov7/data/coco.yaml\n",
    "!cat /content/yolov7/data/coco.yaml"
   ],
   "metadata": {
    "colab": {
     "base_uri": "https://localhost:8080/"
    },
    "id": "0NmzpzAaCUzC",
    "outputId": "51ca8f9c-1cc8-4475-9e9f-afae544e8b8e"
   },
   "execution_count": 12,
   "outputs": []
  },
  {
   "cell_type": "code",
   "source": [
    "!sed -i 's#./images/#/content/coco/images/#g' /content/coco/val2017.txt\n",
    "!cat /content/coco/val2017.txt"
   ],
   "metadata": {
    "colab": {
     "base_uri": "https://localhost:8080/"
    },
    "id": "SYXkoHQbCXu0",
    "outputId": "850d6a3a-2dcd-48c4-f78c-cc0c5cf7072d"
   },
   "execution_count": 13,
   "outputs": []
  },
  {
   "cell_type": "code",
   "source": [
    "!# Download trained weights\n",
    "!wget https://github.com/WongKinYiu/yolov7/releases/download/v0.1/yolov7-e6.pt"
   ],
   "metadata": {
    "colab": {
     "base_uri": "https://localhost:8080/"
    },
    "id": "OL9i_dSPu7EV",
    "outputId": "d9e0bbf7-12bb-4c1e-df30-ccf41b74dfb6"
   },
   "execution_count": 14,
   "outputs": []
  },
  {
   "cell_type": "code",
   "source": [
    "!python detect.py --weights ./yolov7-e6.pt --conf 0.25 --img-size 640 --source inference/images/horses.jpg"
   ],
   "metadata": {
    "colab": {
     "base_uri": "https://localhost:8080/"
    },
    "id": "0rBj0ty6vA-_",
    "outputId": "f7b0a7ce-b728-4821-b145-22c84f0ca47a"
   },
   "execution_count": 15,
   "outputs": []
  },
  {
   "cell_type": "code",
   "source": [
    "from PIL import Image\n",
    "Image.open('/content/yolov7/runs/detect/exp/horses.jpg')"
   ],
   "metadata": {
    "colab": {
     "base_uri": "https://localhost:8080/",
     "height": 529
    },
    "id": "eQzplCJjvDoF",
    "outputId": "a3b8ae9e-4c5e-4e03-f478-3d6f04841b1a"
   },
   "execution_count": 16,
   "outputs": []
  },
  {
   "cell_type": "code",
   "source": [
    "!mkdir /content/yolov7/coco/\n",
    "%cd /content/yolov7/coco/"
   ],
   "metadata": {
    "colab": {
     "base_uri": "https://localhost:8080/"
    },
    "id": "GYCOY5mcwkiM",
    "outputId": "9f30ceb1-dbeb-4a64-bb45-b78257e6546e"
   },
   "execution_count": 17,
   "outputs": []
  },
  {
   "cell_type": "code",
   "source": [
    "!wget http://images.cocodataset.org/annotations/annotations_trainval2017.zip\n",
    "!ls"
   ],
   "metadata": {
    "colab": {
     "base_uri": "https://localhost:8080/"
    },
    "id": "AagdJBYbxSft",
    "outputId": "f79e5269-3ac5-4fc8-b1b6-b4f4418da7cd"
   },
   "execution_count": 18,
   "outputs": []
  },
  {
   "cell_type": "code",
   "source": [
    "!unzip -o annotations_trainval2017.zip\n",
    "!ls"
   ],
   "metadata": {
    "colab": {
     "base_uri": "https://localhost:8080/"
    },
    "id": "Idx8qqbTw0KY",
    "outputId": "f70bdfcf-046f-4c16-d56c-8c533e310328"
   },
   "execution_count": 19,
   "outputs": []
  },
  {
   "cell_type": "code",
   "source": [
    "%cd /content/yolov7/\n",
    "!ls"
   ],
   "metadata": {
    "colab": {
     "base_uri": "https://localhost:8080/"
    },
    "id": "oEv03HR3xj1d",
    "outputId": "b12f1c36-a33e-4021-d162-47873cb2690a"
   },
   "execution_count": 20,
   "outputs": []
  },
  {
   "cell_type": "code",
   "source": [
    "!python test.py --data data/coco.yaml --img 1280 --batch 1 --conf 0.001 --iou 0.65 --device 0 --weights yolov7-e6.pt --name yolov7_e6_1280_val"
   ],
   "metadata": {
    "colab": {
     "base_uri": "https://localhost:8080/"
    },
    "id": "JE3o2PqQy2n4",
    "outputId": "f04d9b10-9655-4921-96a2-ee2f924cae47"
   },
   "execution_count": 21,
   "outputs": []
  },
  {
   "cell_type": "code",
   "source": [
    "%cd /content/\n",
    "!ls"
   ],
   "metadata": {
    "colab": {
     "base_uri": "https://localhost:8080/"
    },
    "id": "1f2w5Ht41Z_5",
    "outputId": "8256cca0-8f3c-4c58-9ff0-ad78e6d191bc"
   },
   "execution_count": 22,
   "outputs": []
  },
  {
   "cell_type": "code",
   "source": [
    "!# Download YOLOv5 code\n",
    "!git clone https://github.com/ultralytics/yolov5\n",
    "%cd yolov5\n",
    "!git checkout 0b5ac224aef287ac3ac9ebf70ade60159450a0b1\n",
    "!ls"
   ],
   "metadata": {
    "colab": {
     "base_uri": "https://localhost:8080/"
    },
    "id": "JerxfvYu1aZC",
    "outputId": "7eb79f61-5234-45af-c7eb-08740dc79c7e"
   },
   "execution_count": 23,
   "outputs": []
  },
  {
   "cell_type": "code",
   "source": [
    "!# Download trained weights\n",
    "!wget https://github.com/ultralytics/yolov5/releases/download/v6.1/yolov5x6.pt"
   ],
   "metadata": {
    "colab": {
     "base_uri": "https://localhost:8080/"
    },
    "id": "u51YN2861gmT",
    "outputId": "b31072cd-87e0-49ed-c05a-4dba6fe71c45"
   },
   "execution_count": 24,
   "outputs": []
  },
  {
   "cell_type": "code",
   "source": [
    "!python detect.py --weights ./yolov5x6.pt --conf 0.25 --img-size 1280 --source data/images/bus.jpg"
   ],
   "metadata": {
    "colab": {
     "base_uri": "https://localhost:8080/"
    },
    "id": "QEf8hSrk1vlW",
    "outputId": "5f58a9f0-261d-483c-80e1-bf3921dcd7d9"
   },
   "execution_count": 25,
   "outputs": []
  },
  {
   "cell_type": "code",
   "source": [
    "from PIL import Image\n",
    "Image.open('/content/yolov5/runs/detect/exp/bus.jpg')"
   ],
   "metadata": {
    "colab": {
     "base_uri": "https://localhost:8080/",
     "height": 1000
    },
    "id": "pKGRsSnx2If3",
    "outputId": "1cfd4fed-8150-4ca0-d4df-761c50370e38"
   },
   "execution_count": 26,
   "outputs": []
  },
  {
   "cell_type": "code",
   "source": [
    "!mkdir /content/yolov5/coco/\n",
    "%cd /content/yolov5/coco/"
   ],
   "metadata": {
    "colab": {
     "base_uri": "https://localhost:8080/"
    },
    "id": "fbU9HTb82Qhr",
    "outputId": "0fcf2b3e-a52b-439c-b729-7611823d1205"
   },
   "execution_count": 27,
   "outputs": []
  },
  {
   "cell_type": "code",
   "source": [
    "!wget http://images.cocodataset.org/annotations/annotations_trainval2017.zip\n",
    "!ls"
   ],
   "metadata": {
    "colab": {
     "base_uri": "https://localhost:8080/"
    },
    "id": "q4nl_CHl2ZQY",
    "outputId": "f9fb21de-3557-4f27-c0ab-c96a7df93c5d"
   },
   "execution_count": 28,
   "outputs": []
  },
  {
   "cell_type": "code",
   "source": [
    "!unzip -o annotations_trainval2017.zip\n",
    "!ls"
   ],
   "metadata": {
    "colab": {
     "base_uri": "https://localhost:8080/"
    },
    "id": "MN1F_bYH2rlJ",
    "outputId": "bb0ab4f1-520a-47c2-a344-c069eed030c4"
   },
   "execution_count": 29,
   "outputs": []
  },
  {
   "cell_type": "code",
   "source": [
    "%cd /content/yolov5/\n",
    "!ls"
   ],
   "metadata": {
    "colab": {
     "base_uri": "https://localhost:8080/"
    },
    "id": "PkvMZba62vaO",
    "outputId": "0d9e30c8-b457-461a-9ca3-dd6bdaf8343f"
   },
   "execution_count": 30,
   "outputs": []
  },
  {
   "cell_type": "code",
   "source": [
    "!sed -i 's#../datasets/coco#/content/coco#g' /content/yolov5/data/coco.yaml\n",
    "!cat /content/yolov5/data/coco.yaml"
   ],
   "metadata": {
    "colab": {
     "base_uri": "https://localhost:8080/"
    },
    "id": "yFWoBat923l7",
    "outputId": "62047b09-4e2b-4ed5-ae0f-41dd793ec3a4"
   },
   "execution_count": 31,
   "outputs": []
  },
  {
   "cell_type": "code",
   "source": [
    "!python val.py --data data/coco.yaml --img 1280 --batch 1 --conf 0.001 --iou 0.65 --device 0 --weights yolov5x6.pt --name yolov5x6_1280_val --half"
   ],
   "metadata": {
    "colab": {
     "base_uri": "https://localhost:8080/"
    },
    "id": "-tMYe8f27US9",
    "outputId": "826d2f14-b884-4547-cad5-b84520bc599d"
   },
   "execution_count": 33,
   "outputs": []
  }
 ]
}
