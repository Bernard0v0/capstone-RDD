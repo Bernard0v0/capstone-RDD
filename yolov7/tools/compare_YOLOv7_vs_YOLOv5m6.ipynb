{
 "nbformat": 4,
 "nbformat_minor": 0,
 "metadata": {
  "colab": {
   "name": "YOLOv7_vs_YOLOv5m6.ipynb",
   "provenance": []
  },
  "kernelspec": {
   "name": "python3",
   "display_name": "Python 3"
  },
  "language_info": {
   "name": "python"
  },
  "accelerator": "GPU",
  "gpuClass": "standard"
 },
 "cells": [
  {
   "cell_type": "code",
   "source": [
    "!pip install --upgrade setuptools pip --user\n",
    "!pip install --ignore-installed PyYAML\n",
    "!pip install pycocotools>=2.0"
   ],
   "metadata": {
    "colab": {
     "base_uri": "https://localhost:8080/",
     "height": 523
    },
    "id": "sSDOngglBk_O",
    "outputId": "ef2e8a78-578e-466f-e3a8-8057e60ae64c"
   },
   "execution_count": null,
   "outputs": []
  },
  {
   "cell_type": "code",
   "execution_count": null,
   "metadata": {
    "colab": {
     "base_uri": "https://localhost:8080/"
    },
    "id": "hQ5fNost-gZI",
    "outputId": "ed1322f0-b589-4fd5-cc31-c3f1bfc163be"
   },
   "source": [
    "import sys\n",
    "import torch\n",
    "print(f\"Python version: {sys.version}, {sys.version_info} \")\n",
    "print(f\"Pytorch version: {torch.__version__} \")"
   ],
   "outputs": []
  },
  {
   "cell_type": "code",
   "source": [
    "!nvidia-smi"
   ],
   "metadata": {
    "colab": {
     "base_uri": "https://localhost:8080/"
    },
    "id": "feCaRUEI-_Os",
    "outputId": "b1ccdf38-83d4-47f9-ffa1-2dae3be333ef"
   },
   "execution_count": null,
   "outputs": []
  },
  {
   "cell_type": "code",
   "source": [
    "!wget https://github.com/ultralytics/yolov5/releases/download/v1.0/coco2017labels.zip\n",
    "!ls"
   ],
   "metadata": {
    "colab": {
     "base_uri": "https://localhost:8080/"
    },
    "id": "oxdg36BCqkyv",
    "outputId": "02b29a0f-09be-4087-8a21-e5dd2047610a"
   },
   "execution_count": null,
   "outputs": []
  },
  {
   "cell_type": "code",
   "source": [
    "!unzip -o coco2017labels.zip"
   ],
   "metadata": {
    "colab": {
     "base_uri": "https://localhost:8080/"
    },
    "id": "ojgUsbxZqpi8",
    "outputId": "b10c0db1-e9df-4ecf-d651-07d37c7c5869"
   },
   "execution_count": null,
   "outputs": []
  },
  {
   "cell_type": "code",
   "source": [
    "%cd /content/coco/images/\n",
    "!ls"
   ],
   "metadata": {
    "colab": {
     "base_uri": "https://localhost:8080/"
    },
    "id": "DxWC5ZN6snYY",
    "outputId": "268a9541-3857-443e-aa70-6b386bc97120"
   },
   "execution_count": null,
   "outputs": []
  },
  {
   "cell_type": "code",
   "source": [
    "!wget http://images.cocodataset.org/zips/val2017.zip\n",
    "!ls"
   ],
   "metadata": {
    "colab": {
     "base_uri": "https://localhost:8080/"
    },
    "id": "iQ_d_-NcssRZ",
    "outputId": "95fb647e-ae81-4bb7-8c69-60a3f93b8f5e"
   },
   "execution_count": null,
   "outputs": []
  },
  {
   "cell_type": "code",
   "source": [
    "!unzip val2017.zip"
   ],
   "metadata": {
    "colab": {
     "base_uri": "https://localhost:8080/"
    },
    "id": "0YAlWEJysv1l",
    "outputId": "91210ad3-3fb5-4c9c-d65d-166396d49385"
   },
   "execution_count": null,
   "outputs": []
  },
  {
   "cell_type": "code",
   "source": [
    "!rm /content/coco/val2017.cache"
   ],
   "metadata": {
    "id": "wvFHqxyCuNTu"
   },
   "execution_count": null,
   "outputs": []
  },
  {
   "cell_type": "code",
   "source": [
    "%cd /content/\n",
    "!ls"
   ],
   "metadata": {
    "colab": {
     "base_uri": "https://localhost:8080/"
    },
    "id": "cOQlLvExtPFL",
    "outputId": "d602bda9-a3fd-412c-8f09-22b70bed9398"
   },
   "execution_count": null,
   "outputs": []
  },
  {
   "cell_type": "code",
   "source": [
    "!# Download YOLOv7 code\n",
    "!git clone https://github.com/WongKinYiu/yolov7\n",
    "%cd yolov7\n",
    "!ls"
   ],
   "metadata": {
    "colab": {
     "base_uri": "https://localhost:8080/"
    },
    "id": "VbejKguHtK7x",
    "outputId": "76730e66-766e-4639-d331-e0883dee5319"
   },
   "execution_count": null,
   "outputs": []
  },
  {
   "cell_type": "code",
   "source": [
    "!sed -i 's#./coco/val2017.txt#/content/coco/val2017.txt#g' /content/yolov7/data/coco.yaml\n",
    "!cat /content/yolov7/data/coco.yaml"
   ],
   "metadata": {
    "colab": {
     "base_uri": "https://localhost:8080/"
    },
    "id": "0NmzpzAaCUzC",
    "outputId": "bd4c4392-1130-4918-eee9-624367dbf62e"
   },
   "execution_count": null,
   "outputs": []
  },
  {
   "cell_type": "code",
   "source": [
    "!sed -i 's#./images/#/content/coco/images/#g' /content/coco/val2017.txt\n",
    "!cat /content/coco/val2017.txt"
   ],
   "metadata": {
    "colab": {
     "base_uri": "https://localhost:8080/"
    },
    "id": "SYXkoHQbCXu0",
    "outputId": "b211da2f-f8fd-40f2-d015-b047c463ef6d"
   },
   "execution_count": null,
   "outputs": []
  },
  {
   "cell_type": "code",
   "source": [
    "!# Download trained weights\n",
    "!wget https://github.com/WongKinYiu/yolov7/releases/download/v0.1/yolov7.pt"
   ],
   "metadata": {
    "colab": {
     "base_uri": "https://localhost:8080/"
    },
    "id": "OL9i_dSPu7EV",
    "outputId": "4171e2a6-2545-4afb-f99c-57d4b00859d7"
   },
   "execution_count": null,
   "outputs": []
  },
  {
   "cell_type": "code",
   "source": [
    "!python detect.py --weights ./yolov7.pt --conf 0.25 --img-size 640 --source inference/images/horses.jpg"
   ],
   "metadata": {
    "colab": {
     "base_uri": "https://localhost:8080/"
    },
    "id": "0rBj0ty6vA-_",
    "outputId": "30f9022a-6380-4dde-ac80-e8c7403fb116"
   },
   "execution_count": null,
   "outputs": []
  },
  {
   "cell_type": "code",
   "source": [
    "from PIL import Image\n",
    "Image.open('/content/yolov7/runs/detect/exp/horses.jpg')"
   ],
   "metadata": {
    "colab": {
     "base_uri": "https://localhost:8080/",
     "height": 529
    },
    "id": "eQzplCJjvDoF",
    "outputId": "b2a05101-4315-4030-de27-60df457a53c0"
   },
   "execution_count": null,
   "outputs": []
  },
  {
   "cell_type": "code",
   "source": [
    "!mkdir /content/yolov7/coco/\n",
    "%cd /content/yolov7/coco/"
   ],
   "metadata": {
    "colab": {
     "base_uri": "https://localhost:8080/"
    },
    "id": "GYCOY5mcwkiM",
    "outputId": "5348874b-ef71-4cb9-9f1e-e8608996d278"
   },
   "execution_count": null,
   "outputs": []
  },
  {
   "cell_type": "code",
   "source": [
    "!wget http://images.cocodataset.org/annotations/annotations_trainval2017.zip\n",
    "!ls"
   ],
   "metadata": {
    "colab": {
     "base_uri": "https://localhost:8080/"
    },
    "id": "AagdJBYbxSft",
    "outputId": "ef096706-75a4-4d32-b845-a36a62e0674f"
   },
   "execution_count": null,
   "outputs": []
  },
  {
   "cell_type": "code",
   "source": [
    "!unzip -o annotations_trainval2017.zip\n",
    "!ls"
   ],
   "metadata": {
    "colab": {
     "base_uri": "https://localhost:8080/"
    },
    "id": "Idx8qqbTw0KY",
    "outputId": "8698d40e-4921-41f8-815a-201b6c077398"
   },
   "execution_count": null,
   "outputs": []
  },
  {
   "cell_type": "code",
   "source": [
    "%cd /content/yolov7/\n",
    "!ls"
   ],
   "metadata": {
    "colab": {
     "base_uri": "https://localhost:8080/"
    },
    "id": "oEv03HR3xj1d",
    "outputId": "b78037f2-0f8e-4cd6-8e18-87466f425b16"
   },
   "execution_count": null,
   "outputs": []
  },
  {
   "cell_type": "code",
   "source": [
    "!python test.py --data data/coco.yaml --img 640 --batch 32 --conf 0.001 --iou 0.65 --device 0 --weights yolov7.pt --name yolov7_640_val"
   ],
   "metadata": {
    "colab": {
     "base_uri": "https://localhost:8080/"
    },
    "id": "Rdjk1aSjvEN1",
    "outputId": "c3dd0b68-0682-4057-873e-ed7b66838cec"
   },
   "execution_count": null,
   "outputs": []
  },
  {
   "cell_type": "code",
   "source": [
    "!python test.py --data data/coco.yaml --img 640 --batch 1 --conf 0.001 --iou 0.65 --device 0 --weights yolov7.pt --name yolov7_640_val"
   ],
   "metadata": {
    "colab": {
     "base_uri": "https://localhost:8080/"
    },
    "id": "JE3o2PqQy2n4",
    "outputId": "f823ada5-6485-44b6-a97d-b229f4dffdd7"
   },
   "execution_count": null,
   "outputs": []
  },
  {
   "cell_type": "code",
   "source": [
    "%cd /content/\n",
    "!ls"
   ],
   "metadata": {
    "colab": {
     "base_uri": "https://localhost:8080/"
    },
    "id": "1f2w5Ht41Z_5",
    "outputId": "d3a1c84e-6e45-420c-a3e5-f1c2379ee176"
   },
   "execution_count": null,
   "outputs": []
  },
  {
   "cell_type": "code",
   "source": [
    "!# Download YOLOv5 code\n",
    "!git clone https://github.com/ultralytics/yolov5\n",
    "%cd yolov5\n",
    "!git checkout 0b5ac224aef287ac3ac9ebf70ade60159450a0b1\n",
    "!ls"
   ],
   "metadata": {
    "colab": {
     "base_uri": "https://localhost:8080/"
    },
    "id": "JerxfvYu1aZC",
    "outputId": "9cefe8d6-4b92-4a79-a036-70f4f70ac33b"
   },
   "execution_count": null,
   "outputs": []
  },
  {
   "cell_type": "code",
   "source": [
    "!# Download trained weights\n",
    "!wget https://github.com/ultralytics/yolov5/releases/download/v6.1/yolov5m6.pt"
   ],
   "metadata": {
    "colab": {
     "base_uri": "https://localhost:8080/"
    },
    "id": "u51YN2861gmT",
    "outputId": "2f35c248-9460-454c-f20a-17723e92efc6"
   },
   "execution_count": null,
   "outputs": []
  },
  {
   "cell_type": "code",
   "source": [
    "!python detect.py --weights ./yolov5m6.pt --conf 0.25 --img-size 1280 --source data/images/bus.jpg"
   ],
   "metadata": {
    "colab": {
     "base_uri": "https://localhost:8080/"
    },
    "id": "QEf8hSrk1vlW",
    "outputId": "f8731bf9-4634-408c-cff2-f2c779b261eb"
   },
   "execution_count": null,
   "outputs": []
  },
  {
   "cell_type": "code",
   "source": [
    "from PIL import Image\n",
    "Image.open('/content/yolov5/runs/detect/exp/bus.jpg')"
   ],
   "metadata": {
    "colab": {
     "base_uri": "https://localhost:8080/",
     "height": 1000
    },
    "id": "pKGRsSnx2If3",
    "outputId": "4c3d7a9f-75d8-4228-bec3-ff9833245678"
   },
   "execution_count": null,
   "outputs": []
  },
  {
   "cell_type": "code",
   "source": [
    "!mkdir /content/yolov5/coco/\n",
    "%cd /content/yolov5/coco/"
   ],
   "metadata": {
    "colab": {
     "base_uri": "https://localhost:8080/"
    },
    "id": "fbU9HTb82Qhr",
    "outputId": "c6ec7462-ca34-4e25-c710-89d1f96e27be"
   },
   "execution_count": null,
   "outputs": []
  },
  {
   "cell_type": "code",
   "source": [
    "!wget http://images.cocodataset.org/annotations/annotations_trainval2017.zip\n",
    "!ls"
   ],
   "metadata": {
    "colab": {
     "base_uri": "https://localhost:8080/"
    },
    "id": "q4nl_CHl2ZQY",
    "outputId": "10e1b6c3-8345-4605-8320-8241bebcc9de"
   },
   "execution_count": null,
   "outputs": []
  },
  {
   "cell_type": "code",
   "source": [
    "!unzip -o annotations_trainval2017.zip\n",
    "!ls"
   ],
   "metadata": {
    "colab": {
     "base_uri": "https://localhost:8080/"
    },
    "id": "MN1F_bYH2rlJ",
    "outputId": "636c96f9-df37-44a0-f3dd-450e9cca7b18"
   },
   "execution_count": null,
   "outputs": []
  },
  {
   "cell_type": "code",
   "source": [
    "%cd /content/yolov5/\n",
    "!ls"
   ],
   "metadata": {
    "colab": {
     "base_uri": "https://localhost:8080/"
    },
    "id": "PkvMZba62vaO",
    "outputId": "dd2f9e03-8b26-4250-d6bd-fd8a22bf4fc1"
   },
   "execution_count": null,
   "outputs": []
  },
  {
   "cell_type": "code",
   "source": [
    "!sed -i 's#../datasets/coco#/content/coco#g' /content/yolov5/data/coco.yaml\n",
    "!cat /content/yolov5/data/coco.yaml"
   ],
   "metadata": {
    "colab": {
     "base_uri": "https://localhost:8080/"
    },
    "id": "yFWoBat923l7",
    "outputId": "15013171-ef52-485b-b062-ab1fbb44dc98"
   },
   "execution_count": null,
   "outputs": []
  },
  {
   "cell_type": "code",
   "source": [
    "!python val.py --data data/coco.yaml --img 1280 --batch 32 --conf 0.001 --iou 0.65 --device 0 --weights yolov5m6.pt --name yolov5m6_1280_val"
   ],
   "metadata": {
    "colab": {
     "base_uri": "https://localhost:8080/"
    },
    "id": "TbBttXtI3KuI",
    "outputId": "79499271-96a3-4fff-941a-f77b3746777a"
   },
   "execution_count": null,
   "outputs": []
  },
  {
   "cell_type": "code",
   "source": [
    "!python val.py --data data/coco.yaml --img 1280 --batch 1 --conf 0.001 --iou 0.65 --device 0 --weights yolov5m6.pt --name yolov5m6_1280_val"
   ],
   "metadata": {
    "colab": {
     "base_uri": "https://localhost:8080/"
    },
    "id": "-tMYe8f27US9",
    "outputId": "f652b6fd-4e30-4334-cb65-97b5125d8134"
   },
   "execution_count": null,
   "outputs": []
  }
 ]
}
